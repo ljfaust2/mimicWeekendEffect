{
 "cells": [
  {
   "cell_type": "code",
   "execution_count": 1,
   "metadata": {},
   "outputs": [
    {
     "data": {
      "text/html": [
       "<style>.container { width:98% !important; }</style>"
      ],
      "text/plain": [
       "<IPython.core.display.HTML object>"
      ]
     },
     "metadata": {},
     "output_type": "display_data"
    },
    {
     "name": "stderr",
     "output_type": "stream",
     "text": [
      "/afs/crc.nd.edu/user/l/lfaust/anaconda3/lib/python3.6/site-packages/statsmodels/compat/pandas.py:56: FutureWarning: The pandas.core.datetools module is deprecated and will be removed in a future version. Please use the pandas.tseries module instead.\n",
      "  from pandas.core import datetools\n"
     ]
    }
   ],
   "source": [
    "from IPython.core.display import display, HTML\n",
    "display(HTML(\"<style>.container { width:98% !important; }</style>\"))\n",
    "import pandas as pd\n",
    "pd.set_option('display.max_columns', 500)\n",
    "pd.set_option('display.max_rows', 500)\n",
    "import numpy as np\n",
    "import scipy as sp\n",
    "import patsy\n",
    "from patsy.contrasts import Helmert\n",
    "from statsmodels.stats.outliers_influence import variance_inflation_factor\n",
    "from statsmodels.tools.tools import add_constant\n",
    "import statsmodels.api as sm\n",
    "import statsmodels.formula.api as smf\n",
    "from scipy import stats\n",
    "from tableone import TableOne\n",
    "from statsmodels.graphics.factorplots import interaction_plot\n",
    "import itertools\n",
    "import matplotlib.pyplot as plt\n",
    "%matplotlib inline\n",
    "\n",
    "from rpy2 import robjects as ro\n",
    "from rpy2.robjects import pandas2ri\n",
    "pandas2ri.activate()\n",
    "from rpy2.robjects.packages import importr\n",
    "from rpy2.robjects import Formula\n",
    "utils = importr('utils')\n",
    "lme4 = importr('lme4')\n",
    "#utils.install_packages('glmnet')\n",
    "stats_ = importr('stats')\n",
    "#glmnet = importr('glmnet')\n",
    "#lme4 = importr('lme4')\n",
    "#library(lmerTest)\n",
    "R = ro.r"
   ]
  },
  {
   "cell_type": "markdown",
   "metadata": {},
   "source": [
    "<b><font size=\"4\">Setup + cleaning</font></b>"
   ]
  },
  {
   "cell_type": "code",
   "execution_count": 2,
   "metadata": {},
   "outputs": [],
   "source": [
    "#Helper functions\n",
    "def AgeType(x):\n",
    "    x = int(x)\n",
    "    if(pd.isnull(x)):\n",
    "        return(-1)\n",
    "    if(x<=18):\n",
    "        return 18\n",
    "    if(x<=24):\n",
    "        return 24\n",
    "    if(x<=53):\n",
    "        return 53\n",
    "    if(x<=77):\n",
    "        return 77\n",
    "    if(x<=89):\n",
    "        return 89\n",
    "    if(x>90):\n",
    "        return 90\n",
    "    return 0\n",
    "\n",
    "def DiagCodeType(x):\n",
    "    if(pd.isnull(x)):\n",
    "        return(0)\n",
    "    if(not str(x).isnumeric()):\n",
    "        return 1\n",
    "    x = int(str(x[0:3]))\n",
    "    if((x>=0)&(x<=139)):\n",
    "        return 2\n",
    "    if((x>=140)&(x<=239)):\n",
    "        return 3\n",
    "    if((x>=240)&(x<=279)):\n",
    "        return 4\n",
    "    if((x>=280)&(x<=289)):\n",
    "        return 5\n",
    "    if((x>=290)&(x<=319)):\n",
    "        return 6\n",
    "    if((x>=320)&(x<=389)):\n",
    "        return 7\n",
    "    if((x>=390)&(x<=459)):\n",
    "        return 8\n",
    "    if((x>=460)&(x<=519)):\n",
    "        return 9\n",
    "    if((x>=520)&(x<=579)):\n",
    "        return 10\n",
    "    if((x>=580)&(x<=629)):\n",
    "        return 11\n",
    "    if((x>=630)&(x<=679)):\n",
    "        return 12\n",
    "    if((x>=680)&(x<=709)):\n",
    "        return 13\n",
    "    if((x>=710)&(x<=739)):\n",
    "        return 14\n",
    "    if((x>=740)&(x<=759)):\n",
    "        return 15\n",
    "    if((x>=760)&(x<=779)):\n",
    "        return 16\n",
    "    if((x>=780)&(x<=799)):\n",
    "        return 17\n",
    "    if((x>=800)&(x<=999)):\n",
    "        return 18\n",
    "    return 0\n",
    "\n",
    "def DiagCodeAbbv(x):\n",
    "    if(pd.isnull(x)):\n",
    "        return(0)\n",
    "    if(not str(x).isnumeric()):\n",
    "        return 1\n",
    "    x = int(str(x[0:3]))\n",
    "    return x"
   ]
  },
  {
   "cell_type": "code",
   "execution_count": 3,
   "metadata": {},
   "outputs": [],
   "source": [
    "df = pd.read_pickle('pat_data.pkl')"
   ]
  },
  {
   "cell_type": "code",
   "execution_count": 4,
   "metadata": {
    "scrolled": true
   },
   "outputs": [
    {
     "name": "stdout",
     "output_type": "stream",
     "text": [
      "(7580, 23)\n",
      "(43, 23)\n",
      "(30746, 23)\n",
      "(30746, 23)\n"
     ]
    }
   ],
   "source": [
    "#Cleaning\n",
    "df['Primary_Diag_Code'] = df['Primary_Diag'].apply(lambda x: DiagCodeType(x))\n",
    "df['DiagCodeAbbv'] = df['Primary_Diag'].apply(lambda x: DiagCodeAbbv(x))\n",
    "#print(df[df.Primary_Diag_Code <= 0].shape)\n",
    "#df = df[df.Primary_Diag_Code > 0]\n",
    "df['Age'] = df['Age'].apply(lambda x: AgeType(x))\n",
    "df = df.replace(to_replace=['UNABLE TO OBTAIN','UNKNOWN/NOT SPECIFIED','PATIENT DECLINED TO ANSWER'], value='UNKNOWN')\n",
    "df = df.replace(to_replace=['ASIAN - CHINESE','ASIAN - VIETNAMESE','ASIAN - ASIAN INDIAN','ASIAN - FILIPINO','ASIAN - KOREAN','ASIAN - OTHER','ASIAN - CAMBODIAN','ASIAN - JAPANESE','ASIAN - THAI'], value='ASIAN')\n",
    "df = df.replace(to_replace=['HISPANIC/LATINO - PUERTO RICAN','HISPANIC/LATINO - DOMINICAN','HISPANIC/LATINO - GUATEMALAN','HISPANIC/LATINO - SALVADORAN','HISPANIC/LATINO - CUBAN','HISPANIC/LATINO - MEXICAN','HISPANIC/LATINO - COLOMBIAN','HISPANIC/LATINO - CENTRAL AMERICAN (OTHER)','HISPANIC/LATINO - HONDURAN'], value='HISPANIC OR LATINO')\n",
    "df = df.replace(to_replace=['BLACK/AFRICAN AMERICAN','BLACK/CAPE VERDEAN','BLACK/HAITIAN','BLACK/AFRICAN'], value='BLACK')\n",
    "df = df.replace(to_replace=['WHITE - RUSSIAN','WHITE - OTHER EUROPEAN','WHITE - BRAZILIAN','WHITE - EASTERN EUROPEAN'], value='WHITE')\n",
    "df = df.replace(to_replace=['MULTI RACE ETHNICITY','AMERICAN INDIAN/ALASKA NATIVE','PORTUGUESE','MIDDLE EASTERN','NATIVE HAWAIIAN OR OTHER PACIFIC ISLANDER','SOUTH AMERICAN','CARIBBEAN ISLAND','AMERICAN INDIAN/ALASKA NATIVE FEDERALLY RECOGNIZED TRIBE'], value='OTHER')\n",
    "print(df[(df.Admit_Type == 'NEWBORN')].shape)\n",
    "df = df[df.Admit_Type != 'NEWBORN']\n",
    "print(df[(df.Admit_Unit == 'NICU')].shape)\n",
    "df = df[df.Admit_Unit != 'NICU']\n",
    "print(df.shape)\n",
    "df = df[df.Lag_Time > 0]\n",
    "print(df.shape)\n",
    "df = df.replace(to_replace=['TRANSFER FROM SKILLED NUR','TRANSFER FROM OTHER HEALT','TRSF WITHIN THIS FACILITY','TRANSFER FROM HOSP/EXTRAM'], value='TRANSFER')\n",
    "df = df[df.Admit_LOC.isin(['EMERGENCY ROOM ADMIT','TRANSFER','CLINIC REFERRAL/PREMATURE','PHYS REFERRAL/NORMAL DELI'])]\n",
    "df = df.replace(to_replace=['CLINIC REFERRAL/PREMATURE','PHYS REFERRAL/NORMAL DELI'], value='REFERRAL')\n",
    "df.loc[(df.DOW == 5)|(df.DOW == 6), 'weekend'] = 1\n",
    "df.loc[(df.DOW == 6)&(df.TOD == 'Night'), 'weekend'] = 1\n",
    "df.weekend = df.weekend.fillna(0)\n",
    "df['LOS_ICU_o'] = df['LOS_ICU']\n",
    "df['LOS_ICU'] = pd.qcut(df['LOS_ICU'], 4,False)\n",
    "df['Hospital_LOS'] = pd.qcut(df['Hospital_LOS'], 4,False)"
   ]
  },
  {
   "cell_type": "code",
   "execution_count": 5,
   "metadata": {},
   "outputs": [
    {
     "data": {
      "text/plain": [
       "(30741, 25)"
      ]
     },
     "execution_count": 5,
     "metadata": {},
     "output_type": "execute_result"
    }
   ],
   "source": [
    "df.shape"
   ]
  },
  {
   "cell_type": "code",
   "execution_count": 6,
   "metadata": {},
   "outputs": [],
   "source": [
    "icu_stay_table = pd.read_csv('../MIMICIII/ICUSTAYS.csv')\n",
    "icu_stay_table.INTIME = pd.to_datetime(icu_stay_table.INTIME)\n",
    "df.ICU_Time = pd.to_datetime(df.ICU_Time)\n",
    "df = df.merge(icu_stay_table[['HADM_ID','ICUSTAY_ID','INTIME']], left_on=['hadm_id','ICU_Time'], right_on=['HADM_ID','INTIME']).drop(['HADM_ID','INTIME'],1)"
   ]
  },
  {
   "cell_type": "code",
   "execution_count": 7,
   "metadata": {},
   "outputs": [],
   "source": [
    "oasis = pd.read_csv('../views/oasis.csv')\n",
    "df = df.merge(oasis[['hadm_id','icustay_id','oasis_prob']], left_on=['hadm_id','ICUSTAY_ID'], right_on=['hadm_id','icustay_id'], how='left')\n",
    "df['oasis_prob'] = pd.qcut(df['oasis_prob'],4,labels=['a','b','c','d']).astype(str)"
   ]
  },
  {
   "cell_type": "code",
   "execution_count": 8,
   "metadata": {},
   "outputs": [],
   "source": [
    "df = df.drop(['ICUSTAY_ID','icustay_id'],1)"
   ]
  },
  {
   "cell_type": "code",
   "execution_count": 9,
   "metadata": {},
   "outputs": [
    {
     "data": {
      "text/plain": [
       "(30741, 26)"
      ]
     },
     "execution_count": 9,
     "metadata": {},
     "output_type": "execute_result"
    }
   ],
   "source": [
    "df.shape"
   ]
  },
  {
   "cell_type": "markdown",
   "metadata": {},
   "source": [
    "<b><font size=\"4\">Summary stats</font></b>"
   ]
  },
  {
   "cell_type": "code",
   "execution_count": 10,
   "metadata": {
    "scrolled": false
   },
   "outputs": [
    {
     "name": "stderr",
     "output_type": "stream",
     "text": [
      "/afs/crc.nd.edu/user/l/lfaust/anaconda3/lib/python3.6/site-packages/tableone.py:405: UserWarning: No p-value was computed for Primary_Diag_Code due to the low number of observations.\n",
      "  warnings.warn('No p-value was computed for {} due to the low number of observations.'.format(v))\n"
     ]
    },
    {
     "data": {
      "text/html": [
       "<div>\n",
       "<style scoped>\n",
       "    .dataframe tbody tr th:only-of-type {\n",
       "        vertical-align: middle;\n",
       "    }\n",
       "\n",
       "    .dataframe tbody tr th {\n",
       "        vertical-align: top;\n",
       "    }\n",
       "\n",
       "    .dataframe thead tr th {\n",
       "        text-align: left;\n",
       "    }\n",
       "\n",
       "    .dataframe thead tr:last-of-type th {\n",
       "        text-align: right;\n",
       "    }\n",
       "</style>\n",
       "<table border=\"1\" class=\"dataframe\">\n",
       "  <thead>\n",
       "    <tr>\n",
       "      <th></th>\n",
       "      <th></th>\n",
       "      <th colspan=\"5\" halign=\"left\">Grouped by weekend</th>\n",
       "    </tr>\n",
       "    <tr>\n",
       "      <th></th>\n",
       "      <th></th>\n",
       "      <th>isnull</th>\n",
       "      <th>0.0</th>\n",
       "      <th>1.0</th>\n",
       "      <th>pval</th>\n",
       "      <th>ptest</th>\n",
       "    </tr>\n",
       "    <tr>\n",
       "      <th>variable</th>\n",
       "      <th>level</th>\n",
       "      <th></th>\n",
       "      <th></th>\n",
       "      <th></th>\n",
       "      <th></th>\n",
       "      <th></th>\n",
       "    </tr>\n",
       "  </thead>\n",
       "  <tbody>\n",
       "    <tr>\n",
       "      <th>n</th>\n",
       "      <th></th>\n",
       "      <td></td>\n",
       "      <td>24063</td>\n",
       "      <td>6678</td>\n",
       "      <td></td>\n",
       "      <td></td>\n",
       "    </tr>\n",
       "    <tr>\n",
       "      <th rowspan=\"3\" valign=\"top\">Admit_Type</th>\n",
       "      <th>ELECTIVE</th>\n",
       "      <td>0</td>\n",
       "      <td>4543 (18.88)</td>\n",
       "      <td>213 (3.19)</td>\n",
       "      <td>0.000</td>\n",
       "      <td>Chi-squared</td>\n",
       "    </tr>\n",
       "    <tr>\n",
       "      <th>EMERGENCY</th>\n",
       "      <td></td>\n",
       "      <td>19017 (79.03)</td>\n",
       "      <td>6141 (91.96)</td>\n",
       "      <td></td>\n",
       "      <td></td>\n",
       "    </tr>\n",
       "    <tr>\n",
       "      <th>URGENT</th>\n",
       "      <td></td>\n",
       "      <td>503 (2.09)</td>\n",
       "      <td>324 (4.85)</td>\n",
       "      <td></td>\n",
       "      <td></td>\n",
       "    </tr>\n",
       "    <tr>\n",
       "      <th rowspan=\"3\" valign=\"top\">Admit_LOC</th>\n",
       "      <th>EMERGENCY ROOM ADMIT</th>\n",
       "      <td>0</td>\n",
       "      <td>9289 (38.6)</td>\n",
       "      <td>3669 (54.94)</td>\n",
       "      <td>0.000</td>\n",
       "      <td>Chi-squared</td>\n",
       "    </tr>\n",
       "    <tr>\n",
       "      <th>REFERRAL</th>\n",
       "      <td></td>\n",
       "      <td>9882 (41.07)</td>\n",
       "      <td>1728 (25.88)</td>\n",
       "      <td></td>\n",
       "      <td></td>\n",
       "    </tr>\n",
       "    <tr>\n",
       "      <th>TRANSFER</th>\n",
       "      <td></td>\n",
       "      <td>4892 (20.33)</td>\n",
       "      <td>1281 (19.18)</td>\n",
       "      <td></td>\n",
       "      <td></td>\n",
       "    </tr>\n",
       "    <tr>\n",
       "      <th rowspan=\"5\" valign=\"top\">Insurance</th>\n",
       "      <th>Government</th>\n",
       "      <td>0</td>\n",
       "      <td>683 (2.84)</td>\n",
       "      <td>262 (3.92)</td>\n",
       "      <td>0.000</td>\n",
       "      <td>Chi-squared</td>\n",
       "    </tr>\n",
       "    <tr>\n",
       "      <th>Medicaid</th>\n",
       "      <td></td>\n",
       "      <td>1833 (7.62)</td>\n",
       "      <td>594 (8.89)</td>\n",
       "      <td></td>\n",
       "      <td></td>\n",
       "    </tr>\n",
       "    <tr>\n",
       "      <th>Medicare</th>\n",
       "      <td></td>\n",
       "      <td>12669 (52.65)</td>\n",
       "      <td>3347 (50.12)</td>\n",
       "      <td></td>\n",
       "      <td></td>\n",
       "    </tr>\n",
       "    <tr>\n",
       "      <th>Private</th>\n",
       "      <td></td>\n",
       "      <td>8555 (35.55)</td>\n",
       "      <td>2309 (34.58)</td>\n",
       "      <td></td>\n",
       "      <td></td>\n",
       "    </tr>\n",
       "    <tr>\n",
       "      <th>Self Pay</th>\n",
       "      <td></td>\n",
       "      <td>323 (1.34)</td>\n",
       "      <td>166 (2.49)</td>\n",
       "      <td></td>\n",
       "      <td></td>\n",
       "    </tr>\n",
       "    <tr>\n",
       "      <th rowspan=\"2\" valign=\"top\">Expire</th>\n",
       "      <th>0</th>\n",
       "      <td>0</td>\n",
       "      <td>20920 (86.94)</td>\n",
       "      <td>5575 (83.48)</td>\n",
       "      <td>0.000</td>\n",
       "      <td>Chi-squared</td>\n",
       "    </tr>\n",
       "    <tr>\n",
       "      <th>1</th>\n",
       "      <td></td>\n",
       "      <td>3143 (13.06)</td>\n",
       "      <td>1103 (16.52)</td>\n",
       "      <td></td>\n",
       "      <td></td>\n",
       "    </tr>\n",
       "    <tr>\n",
       "      <th rowspan=\"5\" valign=\"top\">Admit_Unit</th>\n",
       "      <th>CCU</th>\n",
       "      <td>0</td>\n",
       "      <td>3382 (14.05)</td>\n",
       "      <td>1047 (15.68)</td>\n",
       "      <td>0.000</td>\n",
       "      <td>Chi-squared</td>\n",
       "    </tr>\n",
       "    <tr>\n",
       "      <th>CSRU</th>\n",
       "      <td></td>\n",
       "      <td>5784 (24.04)</td>\n",
       "      <td>334 (5.0)</td>\n",
       "      <td></td>\n",
       "      <td></td>\n",
       "    </tr>\n",
       "    <tr>\n",
       "      <th>MICU</th>\n",
       "      <td></td>\n",
       "      <td>7745 (32.19)</td>\n",
       "      <td>2759 (41.31)</td>\n",
       "      <td></td>\n",
       "      <td></td>\n",
       "    </tr>\n",
       "    <tr>\n",
       "      <th>SICU</th>\n",
       "      <td></td>\n",
       "      <td>3899 (16.2)</td>\n",
       "      <td>1207 (18.07)</td>\n",
       "      <td></td>\n",
       "      <td></td>\n",
       "    </tr>\n",
       "    <tr>\n",
       "      <th>TSICU</th>\n",
       "      <td></td>\n",
       "      <td>3253 (13.52)</td>\n",
       "      <td>1331 (19.93)</td>\n",
       "      <td></td>\n",
       "      <td></td>\n",
       "    </tr>\n",
       "    <tr>\n",
       "      <th rowspan=\"4\" valign=\"top\">LOS_ICU</th>\n",
       "      <th>0</th>\n",
       "      <td>2</td>\n",
       "      <td>6194 (25.74)</td>\n",
       "      <td>1491 (22.33)</td>\n",
       "      <td>0.000</td>\n",
       "      <td>Chi-squared</td>\n",
       "    </tr>\n",
       "    <tr>\n",
       "      <th>1</th>\n",
       "      <td></td>\n",
       "      <td>6049 (25.14)</td>\n",
       "      <td>1637 (24.51)</td>\n",
       "      <td></td>\n",
       "      <td></td>\n",
       "    </tr>\n",
       "    <tr>\n",
       "      <th>2.0</th>\n",
       "      <td></td>\n",
       "      <td>5932 (24.65)</td>\n",
       "      <td>1751 (26.22)</td>\n",
       "      <td></td>\n",
       "      <td></td>\n",
       "    </tr>\n",
       "    <tr>\n",
       "      <th>3.0</th>\n",
       "      <td></td>\n",
       "      <td>5886 (24.46)</td>\n",
       "      <td>1799 (26.94)</td>\n",
       "      <td></td>\n",
       "      <td></td>\n",
       "    </tr>\n",
       "    <tr>\n",
       "      <th rowspan=\"2\" valign=\"top\">NoICU</th>\n",
       "      <th>0</th>\n",
       "      <td>0</td>\n",
       "      <td>12346 (51.31)</td>\n",
       "      <td>4628 (69.3)</td>\n",
       "      <td>0.000</td>\n",
       "      <td>Chi-squared</td>\n",
       "    </tr>\n",
       "    <tr>\n",
       "      <th>1</th>\n",
       "      <td></td>\n",
       "      <td>11717 (48.69)</td>\n",
       "      <td>2050 (30.7)</td>\n",
       "      <td></td>\n",
       "      <td></td>\n",
       "    </tr>\n",
       "    <tr>\n",
       "      <th rowspan=\"2\" valign=\"top\">Transfer_Flag</th>\n",
       "      <th>0</th>\n",
       "      <td>0</td>\n",
       "      <td>21800 (90.6)</td>\n",
       "      <td>5950 (89.1)</td>\n",
       "      <td>0.000</td>\n",
       "      <td>Chi-squared</td>\n",
       "    </tr>\n",
       "    <tr>\n",
       "      <th>1</th>\n",
       "      <td></td>\n",
       "      <td>2263 (9.4)</td>\n",
       "      <td>728 (10.9)</td>\n",
       "      <td></td>\n",
       "      <td></td>\n",
       "    </tr>\n",
       "    <tr>\n",
       "      <th rowspan=\"6\" valign=\"top\">Age</th>\n",
       "      <th>18</th>\n",
       "      <td>0</td>\n",
       "      <td>137 (0.57)</td>\n",
       "      <td>80 (1.2)</td>\n",
       "      <td>0.000</td>\n",
       "      <td>Chi-squared</td>\n",
       "    </tr>\n",
       "    <tr>\n",
       "      <th>24</th>\n",
       "      <td></td>\n",
       "      <td>559 (2.32)</td>\n",
       "      <td>351 (5.26)</td>\n",
       "      <td></td>\n",
       "      <td></td>\n",
       "    </tr>\n",
       "    <tr>\n",
       "      <th>53</th>\n",
       "      <td></td>\n",
       "      <td>5703 (23.7)</td>\n",
       "      <td>1832 (27.43)</td>\n",
       "      <td></td>\n",
       "      <td></td>\n",
       "    </tr>\n",
       "    <tr>\n",
       "      <th>77</th>\n",
       "      <td></td>\n",
       "      <td>11646 (48.4)</td>\n",
       "      <td>2606 (39.02)</td>\n",
       "      <td></td>\n",
       "      <td></td>\n",
       "    </tr>\n",
       "    <tr>\n",
       "      <th>89</th>\n",
       "      <td></td>\n",
       "      <td>4838 (20.11)</td>\n",
       "      <td>1403 (21.01)</td>\n",
       "      <td></td>\n",
       "      <td></td>\n",
       "    </tr>\n",
       "    <tr>\n",
       "      <th>90</th>\n",
       "      <td></td>\n",
       "      <td>1180 (4.9)</td>\n",
       "      <td>406 (6.08)</td>\n",
       "      <td></td>\n",
       "      <td></td>\n",
       "    </tr>\n",
       "    <tr>\n",
       "      <th rowspan=\"4\" valign=\"top\">Hospital_LOS</th>\n",
       "      <th>0</th>\n",
       "      <td>0</td>\n",
       "      <td>5622 (23.36)</td>\n",
       "      <td>2067 (30.95)</td>\n",
       "      <td>0.000</td>\n",
       "      <td>Chi-squared</td>\n",
       "    </tr>\n",
       "    <tr>\n",
       "      <th>1</th>\n",
       "      <td></td>\n",
       "      <td>6125 (25.45)</td>\n",
       "      <td>1559 (23.35)</td>\n",
       "      <td></td>\n",
       "      <td></td>\n",
       "    </tr>\n",
       "    <tr>\n",
       "      <th>2.0</th>\n",
       "      <td></td>\n",
       "      <td>6388 (26.55)</td>\n",
       "      <td>1295 (19.39)</td>\n",
       "      <td></td>\n",
       "      <td></td>\n",
       "    </tr>\n",
       "    <tr>\n",
       "      <th>3.0</th>\n",
       "      <td></td>\n",
       "      <td>5928 (24.64)</td>\n",
       "      <td>1757 (26.31)</td>\n",
       "      <td></td>\n",
       "      <td></td>\n",
       "    </tr>\n",
       "    <tr>\n",
       "      <th rowspan=\"2\" valign=\"top\">TOD</th>\n",
       "      <th>Day</th>\n",
       "      <td>0</td>\n",
       "      <td>13651 (56.73)</td>\n",
       "      <td>2910 (43.58)</td>\n",
       "      <td>0.000</td>\n",
       "      <td>Chi-squared</td>\n",
       "    </tr>\n",
       "    <tr>\n",
       "      <th>Night</th>\n",
       "      <td></td>\n",
       "      <td>10412 (43.27)</td>\n",
       "      <td>3768 (56.42)</td>\n",
       "      <td></td>\n",
       "      <td></td>\n",
       "    </tr>\n",
       "    <tr>\n",
       "      <th rowspan=\"18\" valign=\"top\">Primary_Diag_Code</th>\n",
       "      <th>0</th>\n",
       "      <td>0</td>\n",
       "      <td>1 (0.0)</td>\n",
       "      <td></td>\n",
       "      <td>0.000</td>\n",
       "      <td>Chi-squared (warning: expected count &lt; 5)</td>\n",
       "    </tr>\n",
       "    <tr>\n",
       "      <th>1</th>\n",
       "      <td></td>\n",
       "      <td>63 (0.26)</td>\n",
       "      <td>27 (0.4)</td>\n",
       "      <td></td>\n",
       "      <td></td>\n",
       "    </tr>\n",
       "    <tr>\n",
       "      <th>2.0</th>\n",
       "      <td></td>\n",
       "      <td>1584 (6.58)</td>\n",
       "      <td>642 (9.61)</td>\n",
       "      <td></td>\n",
       "      <td></td>\n",
       "    </tr>\n",
       "    <tr>\n",
       "      <th>3.0</th>\n",
       "      <td></td>\n",
       "      <td>2050 (8.52)</td>\n",
       "      <td>375 (5.62)</td>\n",
       "      <td></td>\n",
       "      <td></td>\n",
       "    </tr>\n",
       "    <tr>\n",
       "      <th>4</th>\n",
       "      <td></td>\n",
       "      <td>472 (1.96)</td>\n",
       "      <td>152 (2.28)</td>\n",
       "      <td></td>\n",
       "      <td></td>\n",
       "    </tr>\n",
       "    <tr>\n",
       "      <th>5</th>\n",
       "      <td></td>\n",
       "      <td>84 (0.35)</td>\n",
       "      <td>27 (0.4)</td>\n",
       "      <td></td>\n",
       "      <td></td>\n",
       "    </tr>\n",
       "    <tr>\n",
       "      <th>6</th>\n",
       "      <td></td>\n",
       "      <td>168 (0.7)</td>\n",
       "      <td>101 (1.51)</td>\n",
       "      <td></td>\n",
       "      <td></td>\n",
       "    </tr>\n",
       "    <tr>\n",
       "      <th>7</th>\n",
       "      <td></td>\n",
       "      <td>393 (1.63)</td>\n",
       "      <td>117 (1.75)</td>\n",
       "      <td></td>\n",
       "      <td></td>\n",
       "    </tr>\n",
       "    <tr>\n",
       "      <th>8</th>\n",
       "      <td></td>\n",
       "      <td>10302 (42.81)</td>\n",
       "      <td>1823 (27.3)</td>\n",
       "      <td></td>\n",
       "      <td></td>\n",
       "    </tr>\n",
       "    <tr>\n",
       "      <th>9</th>\n",
       "      <td></td>\n",
       "      <td>1605 (6.67)</td>\n",
       "      <td>536 (8.03)</td>\n",
       "      <td></td>\n",
       "      <td></td>\n",
       "    </tr>\n",
       "    <tr>\n",
       "      <th>10</th>\n",
       "      <td></td>\n",
       "      <td>2047 (8.51)</td>\n",
       "      <td>770 (11.53)</td>\n",
       "      <td></td>\n",
       "      <td></td>\n",
       "    </tr>\n",
       "    <tr>\n",
       "      <th>11</th>\n",
       "      <td></td>\n",
       "      <td>395 (1.64)</td>\n",
       "      <td>122 (1.83)</td>\n",
       "      <td></td>\n",
       "      <td></td>\n",
       "    </tr>\n",
       "    <tr>\n",
       "      <th>12</th>\n",
       "      <td></td>\n",
       "      <td>103 (0.43)</td>\n",
       "      <td>33 (0.49)</td>\n",
       "      <td></td>\n",
       "      <td></td>\n",
       "    </tr>\n",
       "    <tr>\n",
       "      <th>13</th>\n",
       "      <td></td>\n",
       "      <td>69 (0.29)</td>\n",
       "      <td>22 (0.33)</td>\n",
       "      <td></td>\n",
       "      <td></td>\n",
       "    </tr>\n",
       "    <tr>\n",
       "      <th>14</th>\n",
       "      <td></td>\n",
       "      <td>343 (1.43)</td>\n",
       "      <td>57 (0.85)</td>\n",
       "      <td></td>\n",
       "      <td></td>\n",
       "    </tr>\n",
       "    <tr>\n",
       "      <th>15</th>\n",
       "      <td></td>\n",
       "      <td>212 (0.88)</td>\n",
       "      <td>15 (0.22)</td>\n",
       "      <td></td>\n",
       "      <td></td>\n",
       "    </tr>\n",
       "    <tr>\n",
       "      <th>17</th>\n",
       "      <td></td>\n",
       "      <td>252 (1.05)</td>\n",
       "      <td>90 (1.35)</td>\n",
       "      <td></td>\n",
       "      <td></td>\n",
       "    </tr>\n",
       "    <tr>\n",
       "      <th>18</th>\n",
       "      <td></td>\n",
       "      <td>3920 (16.29)</td>\n",
       "      <td>1769 (26.49)</td>\n",
       "      <td></td>\n",
       "      <td></td>\n",
       "    </tr>\n",
       "    <tr>\n",
       "      <th rowspan=\"6\" valign=\"top\">Ethnicity</th>\n",
       "      <th>ASIAN</th>\n",
       "      <td>0</td>\n",
       "      <td>556 (2.31)</td>\n",
       "      <td>170 (2.55)</td>\n",
       "      <td>0.000</td>\n",
       "      <td>Chi-squared</td>\n",
       "    </tr>\n",
       "    <tr>\n",
       "      <th>BLACK</th>\n",
       "      <td></td>\n",
       "      <td>1614 (6.71)</td>\n",
       "      <td>485 (7.26)</td>\n",
       "      <td></td>\n",
       "      <td></td>\n",
       "    </tr>\n",
       "    <tr>\n",
       "      <th>HISPANIC OR LATINO</th>\n",
       "      <td></td>\n",
       "      <td>731 (3.04)</td>\n",
       "      <td>238 (3.56)</td>\n",
       "      <td></td>\n",
       "      <td></td>\n",
       "    </tr>\n",
       "    <tr>\n",
       "      <th>OTHER</th>\n",
       "      <td></td>\n",
       "      <td>647 (2.69)</td>\n",
       "      <td>241 (3.61)</td>\n",
       "      <td></td>\n",
       "      <td></td>\n",
       "    </tr>\n",
       "    <tr>\n",
       "      <th>UNKNOWN</th>\n",
       "      <td></td>\n",
       "      <td>3420 (14.21)</td>\n",
       "      <td>961 (14.39)</td>\n",
       "      <td></td>\n",
       "      <td></td>\n",
       "    </tr>\n",
       "    <tr>\n",
       "      <th>WHITE</th>\n",
       "      <td></td>\n",
       "      <td>17095 (71.04)</td>\n",
       "      <td>4583 (68.63)</td>\n",
       "      <td></td>\n",
       "      <td></td>\n",
       "    </tr>\n",
       "    <tr>\n",
       "      <th rowspan=\"2\" valign=\"top\">Gender</th>\n",
       "      <th>F</th>\n",
       "      <td>0</td>\n",
       "      <td>10368 (43.09)</td>\n",
       "      <td>2925 (43.8)</td>\n",
       "      <td>0.304</td>\n",
       "      <td>Chi-squared</td>\n",
       "    </tr>\n",
       "    <tr>\n",
       "      <th>M</th>\n",
       "      <td></td>\n",
       "      <td>13695 (56.91)</td>\n",
       "      <td>3753 (56.2)</td>\n",
       "      <td></td>\n",
       "      <td></td>\n",
       "    </tr>\n",
       "    <tr>\n",
       "      <th rowspan=\"4\" valign=\"top\">oasis_prob</th>\n",
       "      <th>a</th>\n",
       "      <td>0</td>\n",
       "      <td>6743 (28.02)</td>\n",
       "      <td>1803 (27.0)</td>\n",
       "      <td>0.000</td>\n",
       "      <td>Chi-squared</td>\n",
       "    </tr>\n",
       "    <tr>\n",
       "      <th>b</th>\n",
       "      <td></td>\n",
       "      <td>6372 (26.48)</td>\n",
       "      <td>1613 (24.15)</td>\n",
       "      <td></td>\n",
       "      <td></td>\n",
       "    </tr>\n",
       "    <tr>\n",
       "      <th>c</th>\n",
       "      <td></td>\n",
       "      <td>5452 (22.66)</td>\n",
       "      <td>1520 (22.76)</td>\n",
       "      <td></td>\n",
       "      <td></td>\n",
       "    </tr>\n",
       "    <tr>\n",
       "      <th>d</th>\n",
       "      <td></td>\n",
       "      <td>5496 (22.84)</td>\n",
       "      <td>1742 (26.09)</td>\n",
       "      <td></td>\n",
       "      <td></td>\n",
       "    </tr>\n",
       "  </tbody>\n",
       "</table>\n",
       "</div>"
      ],
      "text/plain": [
       "                                       Grouped by weekend                 \\\n",
       "                                                   isnull            0.0   \n",
       "variable          level                                                    \n",
       "n                                                                  24063   \n",
       "Admit_Type        ELECTIVE                              0   4543 (18.88)   \n",
       "                  EMERGENCY                                19017 (79.03)   \n",
       "                  URGENT                                      503 (2.09)   \n",
       "Admit_LOC         EMERGENCY ROOM ADMIT                  0    9289 (38.6)   \n",
       "                  REFERRAL                                  9882 (41.07)   \n",
       "                  TRANSFER                                  4892 (20.33)   \n",
       "Insurance         Government                            0     683 (2.84)   \n",
       "                  Medicaid                                   1833 (7.62)   \n",
       "                  Medicare                                 12669 (52.65)   \n",
       "                  Private                                   8555 (35.55)   \n",
       "                  Self Pay                                    323 (1.34)   \n",
       "Expire            0                                     0  20920 (86.94)   \n",
       "                  1                                         3143 (13.06)   \n",
       "Admit_Unit        CCU                                   0   3382 (14.05)   \n",
       "                  CSRU                                      5784 (24.04)   \n",
       "                  MICU                                      7745 (32.19)   \n",
       "                  SICU                                       3899 (16.2)   \n",
       "                  TSICU                                     3253 (13.52)   \n",
       "LOS_ICU           0                                     2   6194 (25.74)   \n",
       "                  1                                         6049 (25.14)   \n",
       "                  2.0                                       5932 (24.65)   \n",
       "                  3.0                                       5886 (24.46)   \n",
       "NoICU             0                                     0  12346 (51.31)   \n",
       "                  1                                        11717 (48.69)   \n",
       "Transfer_Flag     0                                     0   21800 (90.6)   \n",
       "                  1                                           2263 (9.4)   \n",
       "Age               18                                    0     137 (0.57)   \n",
       "                  24                                          559 (2.32)   \n",
       "                  53                                         5703 (23.7)   \n",
       "                  77                                        11646 (48.4)   \n",
       "                  89                                        4838 (20.11)   \n",
       "                  90                                          1180 (4.9)   \n",
       "Hospital_LOS      0                                     0   5622 (23.36)   \n",
       "                  1                                         6125 (25.45)   \n",
       "                  2.0                                       6388 (26.55)   \n",
       "                  3.0                                       5928 (24.64)   \n",
       "TOD               Day                                   0  13651 (56.73)   \n",
       "                  Night                                    10412 (43.27)   \n",
       "Primary_Diag_Code 0                                     0        1 (0.0)   \n",
       "                  1                                            63 (0.26)   \n",
       "                  2.0                                        1584 (6.58)   \n",
       "                  3.0                                        2050 (8.52)   \n",
       "                  4                                           472 (1.96)   \n",
       "                  5                                            84 (0.35)   \n",
       "                  6                                            168 (0.7)   \n",
       "                  7                                           393 (1.63)   \n",
       "                  8                                        10302 (42.81)   \n",
       "                  9                                          1605 (6.67)   \n",
       "                  10                                         2047 (8.51)   \n",
       "                  11                                          395 (1.64)   \n",
       "                  12                                          103 (0.43)   \n",
       "                  13                                           69 (0.29)   \n",
       "                  14                                          343 (1.43)   \n",
       "                  15                                          212 (0.88)   \n",
       "                  17                                          252 (1.05)   \n",
       "                  18                                        3920 (16.29)   \n",
       "Ethnicity         ASIAN                                 0     556 (2.31)   \n",
       "                  BLACK                                      1614 (6.71)   \n",
       "                  HISPANIC OR LATINO                          731 (3.04)   \n",
       "                  OTHER                                       647 (2.69)   \n",
       "                  UNKNOWN                                   3420 (14.21)   \n",
       "                  WHITE                                    17095 (71.04)   \n",
       "Gender            F                                     0  10368 (43.09)   \n",
       "                  M                                        13695 (56.91)   \n",
       "oasis_prob        a                                     0   6743 (28.02)   \n",
       "                  b                                         6372 (26.48)   \n",
       "                  c                                         5452 (22.66)   \n",
       "                  d                                         5496 (22.84)   \n",
       "\n",
       "                                                             \\\n",
       "                                                 1.0   pval   \n",
       "variable          level                                       \n",
       "n                                               6678          \n",
       "Admit_Type        ELECTIVE                213 (3.19)  0.000   \n",
       "                  EMERGENCY             6141 (91.96)          \n",
       "                  URGENT                  324 (4.85)          \n",
       "Admit_LOC         EMERGENCY ROOM ADMIT  3669 (54.94)  0.000   \n",
       "                  REFERRAL              1728 (25.88)          \n",
       "                  TRANSFER              1281 (19.18)          \n",
       "Insurance         Government              262 (3.92)  0.000   \n",
       "                  Medicaid                594 (8.89)          \n",
       "                  Medicare              3347 (50.12)          \n",
       "                  Private               2309 (34.58)          \n",
       "                  Self Pay                166 (2.49)          \n",
       "Expire            0                     5575 (83.48)  0.000   \n",
       "                  1                     1103 (16.52)          \n",
       "Admit_Unit        CCU                   1047 (15.68)  0.000   \n",
       "                  CSRU                     334 (5.0)          \n",
       "                  MICU                  2759 (41.31)          \n",
       "                  SICU                  1207 (18.07)          \n",
       "                  TSICU                 1331 (19.93)          \n",
       "LOS_ICU           0                     1491 (22.33)  0.000   \n",
       "                  1                     1637 (24.51)          \n",
       "                  2.0                   1751 (26.22)          \n",
       "                  3.0                   1799 (26.94)          \n",
       "NoICU             0                      4628 (69.3)  0.000   \n",
       "                  1                      2050 (30.7)          \n",
       "Transfer_Flag     0                      5950 (89.1)  0.000   \n",
       "                  1                       728 (10.9)          \n",
       "Age               18                        80 (1.2)  0.000   \n",
       "                  24                      351 (5.26)          \n",
       "                  53                    1832 (27.43)          \n",
       "                  77                    2606 (39.02)          \n",
       "                  89                    1403 (21.01)          \n",
       "                  90                      406 (6.08)          \n",
       "Hospital_LOS      0                     2067 (30.95)  0.000   \n",
       "                  1                     1559 (23.35)          \n",
       "                  2.0                   1295 (19.39)          \n",
       "                  3.0                   1757 (26.31)          \n",
       "TOD               Day                   2910 (43.58)  0.000   \n",
       "                  Night                 3768 (56.42)          \n",
       "Primary_Diag_Code 0                                   0.000   \n",
       "                  1                         27 (0.4)          \n",
       "                  2.0                     642 (9.61)          \n",
       "                  3.0                     375 (5.62)          \n",
       "                  4                       152 (2.28)          \n",
       "                  5                         27 (0.4)          \n",
       "                  6                       101 (1.51)          \n",
       "                  7                       117 (1.75)          \n",
       "                  8                      1823 (27.3)          \n",
       "                  9                       536 (8.03)          \n",
       "                  10                     770 (11.53)          \n",
       "                  11                      122 (1.83)          \n",
       "                  12                       33 (0.49)          \n",
       "                  13                       22 (0.33)          \n",
       "                  14                       57 (0.85)          \n",
       "                  15                       15 (0.22)          \n",
       "                  17                       90 (1.35)          \n",
       "                  18                    1769 (26.49)          \n",
       "Ethnicity         ASIAN                   170 (2.55)  0.000   \n",
       "                  BLACK                   485 (7.26)          \n",
       "                  HISPANIC OR LATINO      238 (3.56)          \n",
       "                  OTHER                   241 (3.61)          \n",
       "                  UNKNOWN                961 (14.39)          \n",
       "                  WHITE                 4583 (68.63)          \n",
       "Gender            F                      2925 (43.8)  0.304   \n",
       "                  M                      3753 (56.2)          \n",
       "oasis_prob        a                      1803 (27.0)  0.000   \n",
       "                  b                     1613 (24.15)          \n",
       "                  c                     1520 (22.76)          \n",
       "                  d                     1742 (26.09)          \n",
       "\n",
       "                                                                                   \n",
       "                                                                            ptest  \n",
       "variable          level                                                            \n",
       "n                                                                                  \n",
       "Admit_Type        ELECTIVE                                            Chi-squared  \n",
       "                  EMERGENCY                                                        \n",
       "                  URGENT                                                           \n",
       "Admit_LOC         EMERGENCY ROOM ADMIT                                Chi-squared  \n",
       "                  REFERRAL                                                         \n",
       "                  TRANSFER                                                         \n",
       "Insurance         Government                                          Chi-squared  \n",
       "                  Medicaid                                                         \n",
       "                  Medicare                                                         \n",
       "                  Private                                                          \n",
       "                  Self Pay                                                         \n",
       "Expire            0                                                   Chi-squared  \n",
       "                  1                                                                \n",
       "Admit_Unit        CCU                                                 Chi-squared  \n",
       "                  CSRU                                                             \n",
       "                  MICU                                                             \n",
       "                  SICU                                                             \n",
       "                  TSICU                                                            \n",
       "LOS_ICU           0                                                   Chi-squared  \n",
       "                  1                                                                \n",
       "                  2.0                                                              \n",
       "                  3.0                                                              \n",
       "NoICU             0                                                   Chi-squared  \n",
       "                  1                                                                \n",
       "Transfer_Flag     0                                                   Chi-squared  \n",
       "                  1                                                                \n",
       "Age               18                                                  Chi-squared  \n",
       "                  24                                                               \n",
       "                  53                                                               \n",
       "                  77                                                               \n",
       "                  89                                                               \n",
       "                  90                                                               \n",
       "Hospital_LOS      0                                                   Chi-squared  \n",
       "                  1                                                                \n",
       "                  2.0                                                              \n",
       "                  3.0                                                              \n",
       "TOD               Day                                                 Chi-squared  \n",
       "                  Night                                                            \n",
       "Primary_Diag_Code 0                     Chi-squared (warning: expected count < 5)  \n",
       "                  1                                                                \n",
       "                  2.0                                                              \n",
       "                  3.0                                                              \n",
       "                  4                                                                \n",
       "                  5                                                                \n",
       "                  6                                                                \n",
       "                  7                                                                \n",
       "                  8                                                                \n",
       "                  9                                                                \n",
       "                  10                                                               \n",
       "                  11                                                               \n",
       "                  12                                                               \n",
       "                  13                                                               \n",
       "                  14                                                               \n",
       "                  15                                                               \n",
       "                  17                                                               \n",
       "                  18                                                               \n",
       "Ethnicity         ASIAN                                               Chi-squared  \n",
       "                  BLACK                                                            \n",
       "                  HISPANIC OR LATINO                                               \n",
       "                  OTHER                                                            \n",
       "                  UNKNOWN                                                          \n",
       "                  WHITE                                                            \n",
       "Gender            F                                                   Chi-squared  \n",
       "                  M                                                                \n",
       "oasis_prob        a                                                   Chi-squared  \n",
       "                  b                                                                \n",
       "                  c                                                                \n",
       "                  d                                                                "
      ]
     },
     "execution_count": 10,
     "metadata": {},
     "output_type": "execute_result"
    }
   ],
   "source": [
    "columns = ['Admit_Type', 'Admit_LOC', 'Insurance', 'Expire', 'Admit_Unit', 'LOS_ICU', 'NoICU', 'Transfer_Flag', 'Age', 'Hospital_LOS', 'TOD', 'Primary_Diag_Code', 'Ethnicity', 'Gender', 'oasis_prob']\n",
    "groupby = 'weekend'\n",
    "pval = True\n",
    "TableOne(df, columns=columns, categorical=columns, groupby=groupby, pval=pval).tableone"
   ]
  },
  {
   "cell_type": "markdown",
   "metadata": {},
   "source": [
    "<b><font size=\"4\">testing significance of interactions</font></b>"
   ]
  },
  {
   "cell_type": "code",
   "execution_count": 11,
   "metadata": {},
   "outputs": [],
   "source": [
    "sigVars = []"
   ]
  },
  {
   "cell_type": "code",
   "execution_count": 12,
   "metadata": {},
   "outputs": [],
   "source": [
    "rdf=pandas2ri.py2ri(df)"
   ]
  },
  {
   "cell_type": "markdown",
   "metadata": {},
   "source": [
    "fmlNull = Formula('dv ~ (1|id)')\n",
    "fmlModel = Formula('dv ~ cluster + (1|id)')\n",
    "#fmlGender = Formula('cluster ~ gender*dv + (1|id)')\n",
    "resultNull = lme4.lmer(fmlNull,data=rdf, REML=False)\n",
    "resultModel = lme4.lmer(fmlModel,data=rdf, REML=False)\n",
    "#resultGender = lme4.glmer(fmlGender,data=rdf, REML=False, family = 'binomial')\n",
    "#print(R.summary(resultModel))\n",
    "#print()\n",
    "print(R.anova(resultNull,resultModel,type=\"marginal\"))"
   ]
  },
  {
   "cell_type": "markdown",
   "metadata": {},
   "source": [
    "full = Formula(\"Expire ~ 1+ factor(TOD)*factor(weekend) + factor(Admit_LOC)*factor(weekend) + factor(Admit_Type)*factor(weekend) + factor(Admit_Unit)*factor(weekend) + factor(Age)*factor(weekend) + factor(Gender)*factor(weekend) + factor(Ethnicity)*factor(weekend) + factor(Hospital_LOS)*factor(weekend) + factor(Insurance)*factor(weekend) + factor(LOS_ICU)*factor(weekend) + factor(Primary_Diag_Code)*factor(weekend) + factor(Transfer_Flag)*factor(weekend) + (1|oasis_prob)\")\n",
    "null = Formula(\"Expire ~ 1+ factor(TOD)*factor(weekend) + factor(Admit_LOC)*factor(weekend) + factor(Admit_Type)*factor(weekend) + factor(Admit_Unit)*factor(weekend) + factor(Age)*factor(weekend) + factor(Ethnicity)*factor(weekend) + factor(Hospital_LOS)*factor(weekend) + factor(Insurance)*factor(weekend) + factor(LOS_ICU)*factor(weekend) + factor(Primary_Diag_Code)*factor(weekend) + factor(Transfer_Flag)*factor(weekend) + (1|oasis_prob)\")\n",
    "resultNull = R.glmer(null, data = rdf, family = 'binomial')\n",
    "resultModel = R.glmer(full, data = rdf, family = 'binomial')\n",
    "#R.anova(m0, m1, test =\"Chisq\")\n",
    "print(R.anova(resultNull,resultModel,type=\"marginal\"))"
   ]
  },
  {
   "cell_type": "markdown",
   "metadata": {},
   "source": [
    "full = Formula(\"Expire ~ 1 + factor(oasis_prob)*factor(weekend) + factor(TOD)*factor(weekend) + factor(Admit_LOC)*factor(weekend) + factor(Admit_Type)*factor(weekend) + factor(Admit_Unit)*factor(weekend) + factor(Age)*factor(weekend) + factor(Gender)*factor(weekend) + factor(Ethnicity)*factor(weekend) + factor(Hospital_LOS)*factor(weekend) + factor(Insurance)*factor(weekend) + factor(LOS_ICU)*factor(weekend) + factor(Primary_Diag_Code)*factor(weekend) + factor(Transfer_Flag)*factor(weekend)\")\n",
    "null = Formula(\"Expire ~ 1 + factor(oasis_prob)*factor(weekend) + factor(TOD)*factor(weekend) + factor(Admit_LOC)*factor(weekend) + factor(Admit_Type)*factor(weekend) + factor(Admit_Unit)*factor(weekend) + factor(Age)*factor(weekend) + factor(Gender)*factor(weekend) + factor(Ethnicity)*factor(weekend) + factor(Hospital_LOS)*factor(weekend) + factor(Insurance)*factor(weekend) + factor(LOS_ICU)*factor(weekend) + factor(Primary_Diag_Code) + factor(Transfer_Flag)*factor(weekend)\")\n",
    "resultNull = R.glm(null,data=rdf,family=ro.r('binomial(link=\"logit\")'))\n",
    "resultModel = R.glm(full,data=rdf,family=ro.r('binomial(link=\"logit\")'))\n",
    "print(R.anova(resultNull, resultModel, test =\"Chisq\"))\n",
    "#print(R.anova(resultNull,resultModel,type=\"marginal\"))"
   ]
  },
  {
   "cell_type": "markdown",
   "metadata": {},
   "source": [
    "null = Formula(\"Expire ~ 1 + factor(oasis_prob)*factor(weekend) + factor(TOD)*factor(weekend) + factor(Admit_LOC)*factor(weekend) + factor(Admit_Type)*factor(weekend) + factor(Admit_Unit)*factor(weekend) + factor(Age)*factor(weekend) + factor(Gender)*factor(weekend) + factor(Ethnicity)*factor(weekend) + factor(Hospital_LOS)*factor(weekend) + factor(Insurance)*factor(weekend) + factor(LOS_ICU)*factor(weekend) + factor(Primary_Diag_Code)*factor(weekend) + factor(Transfer_Flag)*factor(weekend)\")\n",
    "ivs = ['oasis_prob','TOD','Admit_LOC','Admit_Type','Admit_Unit','Age','Gender','Ethnicity','Hospital_LOS','Insurance','LOS_ICU','Primary_Diag_Code','Transfer_Flag']\n",
    "full = Formula(\"Expire ~ 1 + factor(oasis_prob)*factor(weekend) + factor(TOD)*factor(weekend) + factor(Admit_LOC)*factor(weekend) + factor(Admit_Type)*factor(weekend) + factor(Admit_Unit)*factor(weekend) + factor(Age)*factor(weekend) + factor(Gender)*factor(weekend) + factor(Ethnicity)*factor(weekend) + factor(LOS_ICU)*factor(weekend) + factor(Primary_Diag_Code)*factor(weekend) + factor(Transfer_Flag)*factor(weekend)\")\n",
    "ivs = ['oasis_prob','TOD','Admit_LOC','Admit_Type','Admit_Unit','Age','Gender','Ethnicity','LOS_ICU','Primary_Diag_Code','Transfer_Flag']\n",
    "\n",
    "\n",
    "    m0 = R.glm(null,data=rdf,family=ro.r('binomial(link=\"logit\")'))\n",
    "    m1 = R.glm(full,data=rdf,family=ro.r('binomial(link=\"logit\")'))\n",
    "    #R.glm(null,data=rdf,family=ro.r('binomial(link=\"logit\")'))\n",
    "    #print(i)\n",
    "    p = R.anova(m0, m1, test =\"Chisq\")[4][1]\n",
    "    if(p <= .05):\n",
    "        print(i, p)\n",
    "        sigVars.append(i)\n",
    "        #print(R.anova(m0, m1, test =\"Chisq\"))\n",
    "    #else:\n",
    "        #print('ns')\n",
    "    #print()"
   ]
  },
  {
   "cell_type": "markdown",
   "metadata": {},
   "source": [
    "full = Formula(\"Expire ~ 1 + factor(oasis_prob)*factor(weekend) + factor(TOD)*factor(weekend) + factor(Admit_LOC)*factor(weekend) + factor(Admit_Type)*factor(weekend) + factor(Admit_Unit)*factor(weekend) + factor(Age)*factor(weekend) + factor(Gender)*factor(weekend) + factor(Ethnicity)*factor(weekend) + factor(LOS_ICU)*factor(weekend) + factor(Primary_Diag_Code)*factor(weekend) + factor(Transfer_Flag)*factor(weekend)\")\n",
    "res = R.glm(full,data=rdf,family=ro.r('binomial(link=\"logit\")'))"
   ]
  },
  {
   "cell_type": "markdown",
   "metadata": {},
   "source": [
    "print(R.coef(R.summary(res)))"
   ]
  },
  {
   "cell_type": "code",
   "execution_count": 13,
   "metadata": {
    "scrolled": true
   },
   "outputs": [
    {
     "name": "stdout",
     "output_type": "stream",
     "text": [
      "oasis_prob 0.03330793347937823\n",
      "Admit_LOC 0.03231306544673861\n",
      "Admit_Unit 2.845972388128622e-08\n",
      "LOS_ICU 5.018063865458402e-05\n"
     ]
    }
   ],
   "source": [
    "#full = Formula(\"Expire ~ 1 + factor(oasis_prob)*factor(weekend) + factor(TOD)*factor(weekend) + factor(Admit_LOC)*factor(weekend) + factor(Admit_Type)*factor(weekend) + factor(Admit_Unit)*factor(weekend) + factor(Age)*factor(weekend) + factor(Gender)*factor(weekend) + factor(Ethnicity)*factor(weekend) + factor(Hospital_LOS)*factor(weekend) + factor(Insurance)*factor(weekend) + factor(LOS_ICU)*factor(weekend) + factor(Primary_Diag_Code)*factor(weekend) + factor(Transfer_Flag)*factor(weekend)\")\n",
    "#ivs = ['oasis_prob','TOD','Admit_LOC','Admit_Type','Admit_Unit','Age','Gender','Ethnicity','Hospital_LOS','Insurance','LOS_ICU','Primary_Diag_Code','Transfer_Flag']\n",
    "full = Formula(\"Expire ~ 1 + factor(oasis_prob)*factor(weekend) + factor(TOD)*factor(weekend) + factor(Admit_LOC)*factor(weekend) + factor(Admit_Type)*factor(weekend) + factor(Admit_Unit)*factor(weekend) + factor(Age)*factor(weekend) + factor(Gender)*factor(weekend) + factor(Ethnicity)*factor(weekend) + factor(LOS_ICU)*factor(weekend) + factor(Primary_Diag_Code)*factor(weekend) + factor(Transfer_Flag)*factor(weekend)\")\n",
    "ivs = ['oasis_prob','TOD','Admit_LOC','Admit_Type','Admit_Unit','Age','Gender','Ethnicity','LOS_ICU','Primary_Diag_Code','Transfer_Flag']\n",
    "for i in ivs:\n",
    "    start = 'Expire ~ 1 +'\n",
    "    ivs_test = ivs[:]\n",
    "    ivs_test.remove(i)\n",
    "    for j in ivs_test:\n",
    "        start += 'factor({})*factor(weekend)+'.format(j)\n",
    "    start += 'factor({})'.format(i)\n",
    "    #for j in ivs_test:\n",
    "    #    if(j == 'oasis_prob'):\n",
    "    #        start += '{}*factor(weekend)+'.format(j)\n",
    "    #    else:\n",
    "    #        start += 'factor({})*factor(weekend)+'.format(j)\n",
    "    #start = start[:-1]\n",
    "    null = Formula(start)\n",
    "    m0 = R.glm(null,data=rdf,family=ro.r('binomial(link=\"logit\")'))\n",
    "    m1 = R.glm(full,data=rdf,family=ro.r('binomial(link=\"logit\")'))\n",
    "    #R.glm(null,data=rdf,family=ro.r('binomial(link=\"logit\")'))\n",
    "    #print(i)\n",
    "    p = R.anova(m0, m1, test =\"Chisq\")[4][1]\n",
    "\n",
    "    if(p <= .05):\n",
    "        print(i, p)\n",
    "        sigVars.append(i)\n",
    "        #print(R.anova(m0, m1, test =\"Chisq\"))\n",
    "    #else:\n",
    "        #print('ns')\n",
    "    #print()"
   ]
  },
  {
   "cell_type": "markdown",
   "metadata": {},
   "source": [
    "<b><font size=\"4\">Odds ratios for variables having a significant interaction with weekend</font></b>"
   ]
  },
  {
   "cell_type": "markdown",
   "metadata": {},
   "source": [
    "params = res.params\n",
    "conf = res.conf_int()\n",
    "conf['OR'] = params\n",
    "conf.columns = ['2.5%','97.5%', 'OR']\n",
    "t = np.exp(conf)\n",
    "t[((t['2.5%']<1)&(t['97.5%']<1)) | ((t['2.5%']>1)& (t['97.5%']>1))].round(4)"
   ]
  },
  {
   "cell_type": "code",
   "execution_count": 14,
   "metadata": {},
   "outputs": [],
   "source": [
    "def expand_grid(data_dict):\n",
    "    rows = itertools.product(*data_dict.values())\n",
    "    return pd.DataFrame.from_records(rows, columns=data_dict.keys())\n",
    "def prob2logodds(prob):\n",
    "    odds = prob / (1 - prob)\n",
    "    logodds = np.log(odds)\n",
    "    return logodds"
   ]
  },
  {
   "cell_type": "code",
   "execution_count": 15,
   "metadata": {},
   "outputs": [],
   "source": [
    "def oddsInts(x):\n",
    "    adj_glm_int = smf.glm('Expire ~ C(weekend) * C({})'.format(x), data=df, family=sm.families.Binomial()).fit()\n",
    "    weekend_grid = expand_grid({'weekend': [0, 1],\n",
    "                                x: df[x].unique().tolist()})\n",
    "    weekend_grid['predict'] = adj_glm_int.predict(weekend_grid[['weekend',x]])\n",
    "    weekend_grid['log_odds'] = prob2logodds(weekend_grid['predict'])\n",
    "    weekend_grid.set_index(['weekend',x], inplace=True)\n",
    "    diff_grid = weekend_grid.loc[1]['log_odds'] - weekend_grid.loc[0]['log_odds']\n",
    "    print(np.exp(diff_grid))\n",
    "    print()\n",
    "    print('value counts')\n",
    "    print(df[(df.weekend==1)&(df.Expire==1)][x].value_counts())\n",
    "\n",
    "    fig = interaction_plot(df[x], df.weekend, df.Expire, colors=['red','blue'])\n",
    "    plt.title('Interaction plot of weekend morality across {}'.format(x))\n",
    "    plt.xticks(rotation=270)\n",
    "    plt.show()"
   ]
  },
  {
   "cell_type": "code",
   "execution_count": 16,
   "metadata": {},
   "outputs": [],
   "source": [
    "def pairwise(x):\n",
    "    print('PAIRWISE:')\n",
    "    for pwc in list(itertools.combinations(df[x].dropna().unique(),2)): \n",
    "        first = df[(df.Expire == 1)&(df[x] == pwc[0])].weekend.value_counts()\n",
    "        second = df[(df.Expire == 1)&(df[x] == pwc[1])].weekend.value_counts()\n",
    "        \n",
    "        if(len(first) == 0):\n",
    "            first = [0,0]\n",
    "        if(len(first) < 2):\n",
    "            first = np.append(first,0)\n",
    "        if(len(second) == 0):\n",
    "            second = [0,0]\n",
    "        if(len(second) < 2):\n",
    "            second = np.append(second,0)  \n",
    "            \n",
    "        p = stats.fisher_exact([first,second])[1] \n",
    "        if(p <= .05):       \n",
    "            print(pwc[0],pwc[1],p)\n",
    "    print('{} total comparisons'.format(len(list(itertools.combinations(df[x].dropna().unique(),2)))))"
   ]
  },
  {
   "cell_type": "code",
   "execution_count": 17,
   "metadata": {
    "scrolled": false
   },
   "outputs": [
    {
     "name": "stdout",
     "output_type": "stream",
     "text": [
      "oasis_prob\n",
      "d    1.331874\n",
      "a    1.070977\n",
      "b    1.110355\n",
      "c    1.234266\n",
      "Name: log_odds, dtype: float64\n",
      "\n",
      "value counts\n",
      "d    696\n",
      "c    240\n",
      "b    105\n",
      "a     62\n",
      "Name: oasis_prob, dtype: int64\n"
     ]
    },
    {
     "data": {
      "image/png": "[encoded data removed]",
      "text/plain": [
       "<Figure size 432x288 with 1 Axes>"
      ]
     },
     "metadata": {},
     "output_type": "display_data"
    },
    {
     "name": "stdout",
     "output_type": "stream",
     "text": [
      "PAIRWISE:\n",
      "d b 0.009580306953762455\n",
      "6 total comparisons\n",
      "\n",
      "Admit_LOC\n",
      "EMERGENCY ROOM ADMIT    0.885672\n",
      "TRANSFER                1.516496\n",
      "REFERRAL                1.974609\n",
      "Name: log_odds, dtype: float64\n",
      "\n",
      "value counts\n",
      "EMERGENCY ROOM ADMIT    591\n",
      "TRANSFER                264\n",
      "REFERRAL                248\n",
      "Name: Admit_LOC, dtype: int64\n"
     ]
    },
    {
     "data": {
      "image/png": "[encoded data removed]",
      "text/plain": [
       "<Figure size 432x288 with 1 Axes>"
      ]
     },
     "metadata": {},
     "output_type": "display_data"
    },
    {
     "name": "stdout",
     "output_type": "stream",
     "text": [
      "PAIRWISE:\n",
      "3 total comparisons\n",
      "\n",
      "Admit_Unit\n",
      "MICU     1.045546\n",
      "CCU      1.047383\n",
      "CSRU     4.287452\n",
      "TSICU    0.871312\n",
      "SICU     1.241201\n",
      "Name: log_odds, dtype: float64\n",
      "\n",
      "value counts\n",
      "MICU     530\n",
      "SICU     218\n",
      "CCU      153\n",
      "TSICU    153\n",
      "CSRU      49\n",
      "Name: Admit_Unit, dtype: int64\n"
     ]
    },
    {
     "data": {
      "image/png": "[encoded data removed]",
      "text/plain": [
       "<Figure size 432x288 with 1 Axes>"
      ]
     },
     "metadata": {},
     "output_type": "display_data"
    },
    {
     "name": "stdout",
     "output_type": "stream",
     "text": [
      "PAIRWISE:\n",
      "MICU CSRU 0.0014465532120621137\n",
      "CCU CSRU 0.037038564396132706\n",
      "CSRU TSICU 0.005790986617668423\n",
      "CSRU SICU 0.0026334039950629143\n",
      "10 total comparisons\n",
      "\n",
      "LOS_ICU\n",
      " 0.0    1.527937\n",
      " 2.0    1.280778\n",
      " 1.0    1.495390\n",
      " 3.0    1.120473\n",
      "NaN          NaN\n",
      "Name: log_odds, dtype: float64\n",
      "\n",
      "value counts\n",
      "3.0    446\n",
      "0.0    257\n",
      "2.0    227\n",
      "1.0    173\n",
      "Name: LOS_ICU, dtype: int64\n"
     ]
    },
    {
     "data": {
      "image/png": "[encoded data removed]",
      "text/plain": [
       "<Figure size 432x288 with 1 Axes>"
      ]
     },
     "metadata": {},
     "output_type": "display_data"
    },
    {
     "name": "stdout",
     "output_type": "stream",
     "text": [
      "PAIRWISE:\n",
      "6 total comparisons\n",
      "\n"
     ]
    }
   ],
   "source": [
    "for i in sigVars:\n",
    "    oddsInts(i)\n",
    "    pairwise(i)\n",
    "    print()"
   ]
  },
  {
   "cell_type": "markdown",
   "metadata": {},
   "source": [
    "results = []\n",
    "for unit_t in df.Admit_Type.unique():\n",
    "    for unit_l in df.Admit_LOC.unique():\n",
    "        for l in df.LOS_ICU.unique():\n",
    "            for unit in df.Admit_Unit.unique():\n",
    "                w = df[(df.Admit_Type==unit_t) & (df.Admit_LOC==unit_l) & (df.LOS_ICU==l) &  (df.Admit_Unit==unit) & (df.Expire==1) & (df.weekend==1)].shape[0]\n",
    "                wk = df[(df.Admit_Type==unit_t) & (df.Admit_LOC==unit_l) & (df.LOS_ICU==l) &  (df.Admit_Unit==unit) & (df.Expire==1) & (df.weekend==0)].shape[0]\n",
    "                results.append((unit_t,unit_l,unit,l,w,wk))\n",
    "            \n",
    "results = pd.DataFrame(results)\n",
    "display(results.sort_values([2,5]))"
   ]
  },
  {
   "cell_type": "markdown",
   "metadata": {},
   "source": [
    "# show distribution"
   ]
  },
  {
   "cell_type": "code",
   "execution_count": 18,
   "metadata": {},
   "outputs": [
    {
     "data": {
      "text/plain": [
       "EMERGENCY ROOM ADMIT    58\n",
       "TRANSFER                32\n",
       "REFERRAL                20\n",
       "Name: Admit_LOC, dtype: int64"
      ]
     },
     "execution_count": 18,
     "metadata": {},
     "output_type": "execute_result"
    }
   ],
   "source": [
    "df[(df.Expire == 1)&(df.weekend == 1)&(df.oasis_prob == 'd')&(df.DiagCodeAbbv == 38)&(df.Admit_Unit == 'MICU')].Admit_LOC.value_counts()"
   ]
  },
  {
   "cell_type": "code",
   "execution_count": 40,
   "metadata": {},
   "outputs": [
    {
     "data": {
      "text/plain": [
       "EMERGENCY    25158\n",
       "ELECTIVE      4756\n",
       "URGENT         827\n",
       "Name: Admit_Type, dtype: int64"
      ]
     },
     "execution_count": 40,
     "metadata": {},
     "output_type": "execute_result"
    }
   ],
   "source": [
    "df.Admit_Type.value_counts()"
   ]
  },
  {
   "cell_type": "code",
   "execution_count": 19,
   "metadata": {},
   "outputs": [],
   "source": [
    "def rFishers(df, var):\n",
    "    nr,nc = pd.crosstab(df.weekend, df[var]).shape\n",
    "    Br = ro.r.matrix(pd.crosstab(df.weekend, df[var]).values, nrow=nr, ncol=nc)\n",
    "    print(stats_.fisher_test(Br))"
   ]
  },
  {
   "cell_type": "markdown",
   "metadata": {},
   "source": [
    "# High oasis - specific treatment (low level)"
   ]
  },
  {
   "cell_type": "code",
   "execution_count": 20,
   "metadata": {},
   "outputs": [
    {
     "name": "stdout",
     "output_type": "stream",
     "text": [
      "(103, 26)\n",
      "(254, 26)\n"
     ]
    }
   ],
   "source": [
    "print(df[(df.Expire == 1)&(df.weekend == 1)&(df.oasis_prob == 'd')&(df.DiagCodeAbbv == 38)&(df.Admit_Unit == 'MICU')&(df.Admit_Type == 'EMERGENCY')].shape)\n",
    "print(df[(df.Expire == 1)&(df.weekend == 0)&(df.oasis_prob == 'd')&(df.DiagCodeAbbv == 38)&(df.Admit_Unit == 'MICU')&(df.Admit_Type == 'EMERGENCY')].shape)"
   ]
  },
  {
   "cell_type": "code",
   "execution_count": 21,
   "metadata": {},
   "outputs": [],
   "source": [
    "test = df[(df.Expire == 1)&(df.oasis_prob == 'd')&(df.DiagCodeAbbv == 38)&(df.Admit_Unit == 'MICU')&(df.Admit_Type == 'EMERGENCY')]"
   ]
  },
  {
   "cell_type": "code",
   "execution_count": 22,
   "metadata": {},
   "outputs": [
    {
     "name": "stdout",
     "output_type": "stream",
     "text": [
      "\n",
      "\tFisher's Exact Test for Count Data\n",
      "\n",
      "data:  structure(c(145L, 58L, 56L, 19L, 53L, 26L), .Dim = 2:3)\n",
      "p-value = 0.581\n",
      "alternative hypothesis: two.sided\n",
      "\n",
      "\n"
     ]
    }
   ],
   "source": [
    "rFishers(test, 'Admit_LOC')"
   ]
  },
  {
   "cell_type": "code",
   "execution_count": 23,
   "metadata": {},
   "outputs": [
    {
     "name": "stdout",
     "output_type": "stream",
     "text": [
      "\n",
      "\tFisher's Exact Test for Count Data\n",
      "\n",
      "data:  \n",
      "p-value = 0.9638\n",
      "alternative hypothesis: two.sided\n",
      "\n",
      "\n"
     ]
    }
   ],
   "source": [
    "rFishers(test, 'LOS_ICU')"
   ]
  },
  {
   "cell_type": "code",
   "execution_count": 24,
   "metadata": {},
   "outputs": [
    {
     "name": "stdout",
     "output_type": "stream",
     "text": [
      "\n",
      "\tFisher's Exact Test for Count Data\n",
      "\n",
      "data:  structure(c(126L, 51L, 128L, 52L), .Dim = c(2L, 2L))\n",
      "p-value = 1\n",
      "alternative hypothesis: true odds ratio is not equal to 1\n",
      "95 percent confidence interval:\n",
      " 0.6185445 1.6290254\n",
      "sample estimates:\n",
      "odds ratio \n",
      "  1.003666 \n",
      "\n",
      "\n"
     ]
    }
   ],
   "source": [
    "rFishers(test, 'Gender')"
   ]
  },
  {
   "cell_type": "code",
   "execution_count": 25,
   "metadata": {},
   "outputs": [
    {
     "name": "stdout",
     "output_type": "stream",
     "text": [
      "\n",
      "\tFisher's Exact Test for Count Data\n",
      "\n",
      "data:  \n",
      "p-value = 0.9952\n",
      "alternative hypothesis: two.sided\n",
      "\n",
      "\n"
     ]
    }
   ],
   "source": [
    "rFishers(test, 'Age')"
   ]
  },
  {
   "cell_type": "code",
   "execution_count": 26,
   "metadata": {},
   "outputs": [
    {
     "name": "stdout",
     "output_type": "stream",
     "text": [
      "\n",
      "\tFisher's Exact Test for Count Data\n",
      "\n",
      "data:  \n",
      "p-value = 0.08752\n",
      "alternative hypothesis: two.sided\n",
      "\n",
      "\n"
     ]
    }
   ],
   "source": [
    "rFishers(test, 'Ethnicity')"
   ]
  },
  {
   "cell_type": "markdown",
   "metadata": {},
   "source": [
    "# CSRU - general unit (high level)"
   ]
  },
  {
   "cell_type": "code",
   "execution_count": 27,
   "metadata": {},
   "outputs": [
    {
     "name": "stdout",
     "output_type": "stream",
     "text": [
      "(49, 26)\n",
      "(223, 26)\n"
     ]
    }
   ],
   "source": [
    "print(df[(df.Expire == 1)&(df.weekend == 1)&(df.Admit_Unit == 'CSRU')].shape)\n",
    "print(df[(df.Expire == 1)&(df.weekend == 0)&(df.Admit_Unit == 'CSRU')].shape)"
   ]
  },
  {
   "cell_type": "code",
   "execution_count": 28,
   "metadata": {},
   "outputs": [],
   "source": [
    "fracs = {'EMERGENCY':82,'ELECTIVE':6,'URGENT':10}\n",
    "test = df[(df.Admit_Unit == 'CSRU')&(df.Expire == 1)&(df.weekend == 0)]\n",
    "N = len(test)\n",
    "test = pd.concat(dff.sample(n=fracs.get(i)) for i,dff in test.groupby('Admit_Type'))\n",
    "test = test.append(df[(df.Admit_Unit == 'CSRU')&(df.Expire == 1)&(df.weekend == 1)])"
   ]
  },
  {
   "cell_type": "code",
   "execution_count": 29,
   "metadata": {},
   "outputs": [
    {
     "data": {
      "text/plain": [
       "(147, 26)"
      ]
     },
     "execution_count": 29,
     "metadata": {},
     "output_type": "execute_result"
    }
   ],
   "source": [
    "test.shape"
   ]
  },
  {
   "cell_type": "code",
   "execution_count": 30,
   "metadata": {},
   "outputs": [
    {
     "name": "stdout",
     "output_type": "stream",
     "text": [
      "\n",
      "\tFisher's Exact Test for Count Data\n",
      "\n",
      "data:  structure(c(6L, 3L, 82L, 41L, 10L, 5L), .Dim = 2:3)\n",
      "p-value = 1\n",
      "alternative hypothesis: two.sided\n",
      "\n",
      "\n"
     ]
    }
   ],
   "source": [
    "rFishers(test, 'Admit_Type')"
   ]
  },
  {
   "cell_type": "code",
   "execution_count": 31,
   "metadata": {},
   "outputs": [
    {
     "name": "stdout",
     "output_type": "stream",
     "text": [
      "\n",
      "\tFisher's Exact Test for Count Data\n",
      "\n",
      "data:  \n",
      "p-value = 0.5866\n",
      "alternative hypothesis: two.sided\n",
      "\n",
      "\n"
     ]
    }
   ],
   "source": [
    "rFishers(test, 'oasis_prob')"
   ]
  },
  {
   "cell_type": "code",
   "execution_count": 32,
   "metadata": {},
   "outputs": [
    {
     "name": "stdout",
     "output_type": "stream",
     "text": [
      "\n",
      "\tFisher's Exact Test for Count Data\n",
      "\n",
      "data:  \n",
      "p-value = 0.2388\n",
      "alternative hypothesis: two.sided\n",
      "\n",
      "\n"
     ]
    }
   ],
   "source": [
    "rFishers(test, 'Primary_Diag_Code')"
   ]
  },
  {
   "cell_type": "code",
   "execution_count": 33,
   "metadata": {},
   "outputs": [
    {
     "name": "stdout",
     "output_type": "stream",
     "text": [
      "\n",
      "\tFisher's Exact Test for Count Data\n",
      "\n",
      "data:  structure(c(6L, 3L, 82L, 41L, 10L, 5L), .Dim = 2:3)\n",
      "p-value = 1\n",
      "alternative hypothesis: two.sided\n",
      "\n",
      "\n"
     ]
    }
   ],
   "source": [
    "rFishers(test, 'Admit_Type')"
   ]
  },
  {
   "cell_type": "code",
   "execution_count": 34,
   "metadata": {},
   "outputs": [
    {
     "name": "stdout",
     "output_type": "stream",
     "text": [
      "\n",
      "\tFisher's Exact Test for Count Data\n",
      "\n",
      "data:  structure(c(36L, 16L, 25L, 13L, 37L, 20L), .Dim = 2:3)\n",
      "p-value = 0.9028\n",
      "alternative hypothesis: two.sided\n",
      "\n",
      "\n"
     ]
    }
   ],
   "source": [
    "rFishers(test, 'Admit_LOC')"
   ]
  },
  {
   "cell_type": "code",
   "execution_count": 35,
   "metadata": {},
   "outputs": [
    {
     "name": "stdout",
     "output_type": "stream",
     "text": [
      "\n",
      "\tFisher's Exact Test for Count Data\n",
      "\n",
      "data:  \n",
      "p-value = 0.1168\n",
      "alternative hypothesis: two.sided\n",
      "\n",
      "\n"
     ]
    }
   ],
   "source": [
    "rFishers(test, 'LOS_ICU')"
   ]
  },
  {
   "cell_type": "code",
   "execution_count": 36,
   "metadata": {},
   "outputs": [
    {
     "name": "stdout",
     "output_type": "stream",
     "text": [
      "\n",
      "\tFisher's Exact Test for Count Data\n",
      "\n",
      "data:  structure(c(46L, 21L, 52L, 28L), .Dim = c(2L, 2L))\n",
      "p-value = 0.7261\n",
      "alternative hypothesis: true odds ratio is not equal to 1\n",
      "95 percent confidence interval:\n",
      " 0.5595231 2.5040077\n",
      "sample estimates:\n",
      "odds ratio \n",
      "  1.178163 \n",
      "\n",
      "\n"
     ]
    }
   ],
   "source": [
    "rFishers(test, 'Gender')"
   ]
  },
  {
   "cell_type": "code",
   "execution_count": 37,
   "metadata": {},
   "outputs": [
    {
     "name": "stdout",
     "output_type": "stream",
     "text": [
      "\n",
      "\tFisher's Exact Test for Count Data\n",
      "\n",
      "data:  \n",
      "p-value = 0.1865\n",
      "alternative hypothesis: two.sided\n",
      "\n",
      "\n"
     ]
    }
   ],
   "source": [
    "rFishers(test, 'Age')"
   ]
  },
  {
   "cell_type": "code",
   "execution_count": 38,
   "metadata": {},
   "outputs": [
    {
     "name": "stdout",
     "output_type": "stream",
     "text": [
      "\n",
      "\tFisher's Exact Test for Count Data\n",
      "\n",
      "data:  \n",
      "p-value = 0.8373\n",
      "alternative hypothesis: two.sided\n",
      "\n",
      "\n"
     ]
    }
   ],
   "source": [
    "rFishers(test, 'Ethnicity')"
   ]
  },
  {
   "cell_type": "code",
   "execution_count": 39,
   "metadata": {},
   "outputs": [
    {
     "data": {
      "text/plain": [
       "TRANSFER                57\n",
       "EMERGENCY ROOM ADMIT    52\n",
       "REFERRAL                38\n",
       "Name: Admit_LOC, dtype: int64"
      ]
     },
     "execution_count": 39,
     "metadata": {},
     "output_type": "execute_result"
    }
   ],
   "source": [
    "test.Admit_LOC.value_counts()"
   ]
  },
  {
   "cell_type": "code",
   "execution_count": null,
   "metadata": {},
   "outputs": [],
   "source": []
  }
 ],
 "metadata": {
  "kernelspec": {
   "display_name": "Python [default]",
   "language": "python",
   "name": "python3"
  },
  "language_info": {
   "codemirror_mode": {
    "name": "ipython",
    "version": 3
   },
   "file_extension": ".py",
   "mimetype": "text/x-python",
   "name": "python",
   "nbconvert_exporter": "python",
   "pygments_lexer": "ipython3",
   "version": "3.6.4"
  }
 },
 "nbformat": 4,
 "nbformat_minor": 2
}
